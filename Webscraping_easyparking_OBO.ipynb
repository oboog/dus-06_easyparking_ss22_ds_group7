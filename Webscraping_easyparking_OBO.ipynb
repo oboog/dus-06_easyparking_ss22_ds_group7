{
  "nbformat": 4,
  "nbformat_minor": 0,
  "metadata": {
    "colab": {
      "name": "Webscraping_easyparking ",
      "provenance": [],
      "authorship_tag": "ABX9TyNK8qlJEkEGAVcgm6akLOPl",
      "include_colab_link": true
    },
    "kernelspec": {
      "name": "python3",
      "display_name": "Python 3"
    },
    "language_info": {
      "name": "python"
    }
  },
  "cells": [
    {
      "cell_type": "markdown",
      "metadata": {
        "id": "view-in-github",
        "colab_type": "text"
      },
      "source": [
        "<a href=\"https://colab.research.google.com/github/oboog/testing/blob/main/Webscraping_easyparking_OBO.ipynb\" target=\"_parent\"><img src=\"https://colab.research.google.com/assets/colab-badge.svg\" alt=\"Open In Colab\"/></a>"
      ]
    },
    {
      "cell_type": "code",
      "execution_count": 2,
      "metadata": {
        "id": "O-I-RUBNj9ix"
      },
      "outputs": [],
      "source": [
        "from bs4 import BeautifulSoup\n",
        "import requests"
      ]
    },
    {
      "cell_type": "code",
      "source": [
        "#https://www.stadt-koeln.de/leben-in-koeln/verkehr/parken/parkhaeuser/\n",
        "\n",
        "\n",
        "# mit f vor der URL können später im string noch änderungen vorgenommen werden \n",
        "url = f\"https://www.stadt-koeln.de/leben-in-koeln/verkehr/parken/parkhaeuser/\"\n",
        "page = requests.get(url)\n",
        "soup = BeautifulSoup(page.content, \"html.parser\")\n",
        "\n",
        "# testen, ob soup bislang funktioniert >>> print(soup)\n",
        "print(soup)\n",
        "\n",
        "\n",
        "# aus der Website über Quellcode anzeigen entsprechend zu nutzender Name der Table Class entwendet, aus der wir Daten beziehen wollen >>>> table class=\"data-table no-topheadtable table-striped datatable-head\"\n",
        "table_all_parkingbuildings = soup.find(\"table\", attrs={\"class\":\"data-table no-topheadtable table-striped datatable-head\"})\n",
        "\n",
        "#print(table_all_parkingbuildings) zum testen --> funktioniert\n",
        "\n",
        "parkingbuildings_data = ...?\n",
        "\n"
      ],
      "metadata": {
        "id": "_FemOaXkktAD"
      },
      "execution_count": null,
      "outputs": []
    }
  ]
}
