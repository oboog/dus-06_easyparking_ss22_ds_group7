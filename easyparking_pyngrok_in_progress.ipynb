{
  "nbformat": 4,
  "nbformat_minor": 0,
  "metadata": {
    "colab": {
      "provenance": [],
      "authorship_tag": "ABX9TyMzFOjqEObDIGBwtCDohikB",
      "include_colab_link": true
    },
    "kernelspec": {
      "name": "python3",
      "display_name": "Python 3"
    },
    "language_info": {
      "name": "python"
    }
  },
  "cells": [
    {
      "cell_type": "markdown",
      "metadata": {
        "id": "view-in-github",
        "colab_type": "text"
      },
      "source": [
        "<a href=\"https://colab.research.google.com/github/oboog/dus-06_easyparking_ss22_ds_group7/blob/oliversbranch/easyparking_pyngrok_in_progress.ipynb\" target=\"_parent\"><img src=\"https://colab.research.google.com/assets/colab-badge.svg\" alt=\"Open In Colab\"/></a>"
      ]
    },
    {
      "cell_type": "code",
      "execution_count": 1,
      "metadata": {
        "id": "8dEtZXGEwC-M",
        "colab": {
          "base_uri": "https://localhost:8080/"
        },
        "outputId": "20cdf0be-36ec-4c15-b543-8d2f3be7294b"
      },
      "outputs": [
        {
          "output_type": "stream",
          "name": "stdout",
          "text": [
            "\u001b[K     |████████████████████████████████| 9.1 MB 3.7 MB/s \n",
            "\u001b[K     |████████████████████████████████| 78 kB 4.7 MB/s \n",
            "\u001b[K     |████████████████████████████████| 164 kB 56.6 MB/s \n",
            "\u001b[K     |████████████████████████████████| 181 kB 45.0 MB/s \n",
            "\u001b[K     |████████████████████████████████| 4.7 MB 46.7 MB/s \n",
            "\u001b[K     |████████████████████████████████| 235 kB 62.2 MB/s \n",
            "\u001b[K     |████████████████████████████████| 63 kB 1.5 MB/s \n",
            "\u001b[K     |████████████████████████████████| 51 kB 4.8 MB/s \n",
            "\u001b[?25h  Building wheel for validators (setup.py) ... \u001b[?25l\u001b[?25hdone\n"
          ]
        }
      ],
      "source": [
        "! pip install streamlit -q"
      ]
    },
    {
      "cell_type": "code",
      "source": [
        "#creating an app.py, the information given here will be shown on a webpage. Example with plain text 'Hello World'\n",
        "%%writefile app.py \n",
        "import streamlit as st\n",
        "st.write(\"Hello World from Team Easyparking\") "
      ],
      "metadata": {
        "colab": {
          "base_uri": "https://localhost:8080/"
        },
        "id": "bg12u30igXbx",
        "outputId": "9a6798f4-8d7c-4a2b-c05c-7e8dc4d2435e"
      },
      "execution_count": 2,
      "outputs": [
        {
          "output_type": "stream",
          "name": "stdout",
          "text": [
            "Writing app.py\n"
          ]
        }
      ]
    },
    {
      "cell_type": "code",
      "source": [
        "#ngrok instsallation for tunneling\n",
        "! pip install pyngrok\n",
        "from pyngrok import ngrok"
      ],
      "metadata": {
        "colab": {
          "base_uri": "https://localhost:8080/"
        },
        "id": "7XMz_FdxhOs5",
        "outputId": "ce6650f2-101d-4496-8c3a-1e4ab7f8ddba"
      },
      "execution_count": 3,
      "outputs": [
        {
          "output_type": "stream",
          "name": "stdout",
          "text": [
            "Looking in indexes: https://pypi.org/simple, https://us-python.pkg.dev/colab-wheels/public/simple/\n",
            "Collecting pyngrok\n",
            "  Downloading pyngrok-5.1.0.tar.gz (745 kB)\n",
            "\u001b[K     |████████████████████████████████| 745 kB 4.3 MB/s \n",
            "\u001b[?25hRequirement already satisfied: PyYAML in /usr/local/lib/python3.7/dist-packages (from pyngrok) (6.0)\n",
            "Building wheels for collected packages: pyngrok\n",
            "  Building wheel for pyngrok (setup.py) ... \u001b[?25l\u001b[?25hdone\n",
            "  Created wheel for pyngrok: filename=pyngrok-5.1.0-py3-none-any.whl size=19007 sha256=1e687c433612f43f1537b0521649ea4ac5b5bf444ef61d5fe56060a874edc71e\n",
            "  Stored in directory: /root/.cache/pip/wheels/bf/e6/af/ccf6598ecefecd44104069371795cb9b3afbcd16987f6ccfb3\n",
            "Successfully built pyngrok\n",
            "Installing collected packages: pyngrok\n",
            "Successfully installed pyngrok-5.1.0\n"
          ]
        }
      ]
    },
    {
      "cell_type": "code",
      "source": [
        "#set ngrok auth token. Get your auth thoken for free after registering at ngrok.com \n",
        "ngrok.set_auth_token(\" \") #implement own auth code in between the \"...\""
      ],
      "metadata": {
        "colab": {
          "base_uri": "https://localhost:8080/"
        },
        "id": "_ZBHzkXik06v",
        "outputId": "5866c35e-68e9-4521-acdd-ffc0fc9d1ff3"
      },
      "execution_count": 4,
      "outputs": [
        {
          "output_type": "stream",
          "name": "stdout",
          "text": []
        }
      ]
    },
    {
      "cell_type": "code",
      "source": [
        "!nohub streamlit run app.py --server.port 80 &\n",
        "url = ngrok.connect(port = \"80\")\n",
        "print(url)"
      ],
      "metadata": {
        "colab": {
          "base_uri": "https://localhost:8080/"
        },
        "id": "j0RN71uZk83g",
        "outputId": "b9f43870-1938-4332-c0a5-cec94f252b2e"
      },
      "execution_count": 5,
      "outputs": [
        {
          "output_type": "stream",
          "name": "stdout",
          "text": [
            "/bin/bash: nohub: command not found\n",
            "NgrokTunnel: \"http://5428-35-201-157-91.ngrok.io\" -> \"http://localhost:80\"\n"
          ]
        }
      ]
    },
    {
      "cell_type": "markdown",
      "source": [
        "at the moment the result is unfortunately \"Failed to complete tunnel connection\"\n"
      ],
      "metadata": {
        "id": "ctD7_v4nmzJW"
      }
    }
  ]
}