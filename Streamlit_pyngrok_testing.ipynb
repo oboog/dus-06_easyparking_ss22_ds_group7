{
  "nbformat": 4,
  "nbformat_minor": 0,
  "metadata": {
    "colab": {
      "name": "Streamlit_obo_testing.ipynb",
      "provenance": [],
      "authorship_tag": "ABX9TyOkgCuUjhDXiXtoV+CWe+T4",
      "include_colab_link": true
    },
    "kernelspec": {
      "name": "python3",
      "display_name": "Python 3"
    },
    "language_info": {
      "name": "python"
    }
  },
  "cells": [
    {
      "cell_type": "markdown",
      "metadata": {
        "id": "view-in-github",
        "colab_type": "text"
      },
      "source": [
        "<a href=\"https://colab.research.google.com/github/oboog/dus-06_easyparking_ss22_ds_group7/blob/oliversbranch/Streamlit_obo_testing.ipynb\" target=\"_parent\"><img src=\"https://colab.research.google.com/assets/colab-badge.svg\" alt=\"Open In Colab\"/></a>"
      ]
    },
    {
      "cell_type": "code",
      "source": [
        "! pip install streamlit -q"
      ],
      "metadata": {
        "id": "8BTjkP72NmPT"
      },
      "execution_count": 1,
      "outputs": []
    },
    {
      "cell_type": "code",
      "source": [
        "#hier wird über writefile eine app.py Datei erstellt, dort können wir sowohl streamlit importieren als auch (Text)Inhalte ausgeben. \n",
        "#versuchen, nach writefile die Datei von Hannah einzubinden: \n",
        "\n",
        "%%writefile app.py\n",
        "import streamlit as st\n",
        "st.write(\"Hello World from Oliver\")"
      ],
      "metadata": {
        "colab": {
          "base_uri": "https://localhost:8080/"
        },
        "id": "Jv-hLSLnN4uC",
        "outputId": "af441b75-ef4d-4264-fe58-6de3f8f42434"
      },
      "execution_count": 8,
      "outputs": [
        {
          "output_type": "stream",
          "name": "stdout",
          "text": [
            "Overwriting app.py\n"
          ]
        }
      ]
    },
    {
      "cell_type": "code",
      "source": [
        "#entweder hier oder später pyngrok. das ist ein wrapper, so wie ich verstanden habe, ermöglicht es uns über tunneling eine Frontendansicht der app.py datei zu erstellen\n",
        "# siehe Anleitung hier: https://www.youtube.com/watch?v=MUD-pBOnvdo&ab_channel=1littlecoder\n",
        "\n",
        "! pip install pyngrok"
      ],
      "metadata": {
        "colab": {
          "base_uri": "https://localhost:8080/"
        },
        "id": "iKqUUPeMN1rj",
        "outputId": "112cc503-3b94-4043-99b1-307e12121e36"
      },
      "execution_count": 3,
      "outputs": [
        {
          "output_type": "stream",
          "name": "stdout",
          "text": [
            "Looking in indexes: https://pypi.org/simple, https://us-python.pkg.dev/colab-wheels/public/simple/\n",
            "Requirement already satisfied: pyngrok in /usr/local/lib/python3.7/dist-packages (5.1.0)\n",
            "Requirement already satisfied: PyYAML in /usr/local/lib/python3.7/dist-packages (from pyngrok) (6.0)\n"
          ]
        }
      ]
    },
    {
      "cell_type": "code",
      "execution_count": 4,
      "metadata": {
        "colab": {
          "base_uri": "https://localhost:8080/"
        },
        "id": "W3TosyH2Ng0D",
        "outputId": "1838efb1-b529-4e4b-a704-0bd74d54693d"
      },
      "outputs": [
        {
          "output_type": "stream",
          "name": "stdout",
          "text": [
            "Overwriting app.py\n"
          ]
        }
      ],
      "source": [
        "#%%writefile app.py\n",
        "import streamlit as st\n",
        "import random\n",
        "import pandas as pd\n",
        "import pydeck as pdk\n",
        "\n",
        "df_data = pd.read_csv('../techlabs_merging/merged_data.csv', index_col=0)\n",
        "df_data = df_data.loc[:, ['x', 'y', 'type']]\n",
        "st.title(\"Easy Parking\")\n",
        "\n",
        "address_query = st.text_input(\"Enter your destination\", value='Cologne')\n",
        "\n",
        "selected_types = st.multiselect(\n",
        "     'What do you want to see around your destination?',\n",
        "     df_data.type.unique(), default=df_data.type.unique())\n",
        "    \n",
        "type_mask = df_data.type.isin(selected_types)\n",
        "\n",
        "# Filter data for selected types\n",
        "df_data = df_data[type_mask]\n",
        "\n",
        "@st.cache\n",
        "def generate_random_hexcolor(type):\n",
        "    return \"#%06x\" % random.randint(0, 0xFFFFFF)\n",
        "\n",
        "def hex_color_to_rgb_list(hex_color):\n",
        "    \"\"\"\n",
        "    Given a hex color like #00FF33, returns an array with decimal numbers like [0, 256, 0]\n",
        "    \"\"\"\n",
        "    return list(int(hex_color.lstrip('#')[i:i+2], 16) for i in (0, 2, 4))\n",
        "\n",
        "colors = {}\n",
        "\n",
        "if df_data.type.nunique() > 0: # If user deselects all options, ignore showing color pickers for data points to avoid crash\n",
        "    cols = st.columns(df_data.type.nunique())\n",
        "    for i, type in enumerate(df_data.type.unique()):\n",
        "        with cols[i]:\n",
        "            hex_color = st.color_picker(type, value=generate_random_hexcolor(type))\n",
        "            rgb_list = hex_color_to_rgb_list(hex_color)\n",
        "            rgba_list = rgb_list + [200] # add fixed alpha value as last element\n",
        "            colors[type] = rgba_list\n",
        "\n",
        "layers = [\n",
        "         pdk.Layer(\n",
        "             'ScatterplotLayer',\n",
        "             data=df_data[df_data['type']==type],\n",
        "             get_position='[x, y]',\n",
        "             get_color=f'{color}',\n",
        "             get_radius=15,\n",
        "         )\n",
        "         for type, color in colors.items()\n",
        "     ]\n",
        "\n",
        "@st.cache # Don't query the geocode service for the same address again and again\n",
        "def get_address_coordinate(query):\n",
        "    from geopy.geocoders import Nominatim\n",
        "    geolocator = Nominatim(user_agent='map')\n",
        "\n",
        "    location = geolocator.geocode(query)\n",
        "    return (location.longitude, location.latitude)\n",
        "\n",
        "queried_location = get_address_coordinate(address_query)\n",
        "df_queried_location = pd.DataFrame(queried_location , index=['x','y']).T\n",
        "\n",
        "user_input_address = pdk.Layer(\n",
        "    'ScatterplotLayer',\n",
        "    data=df_queried_location,\n",
        "    get_position='[x, y]',\n",
        "    get_color='[100, 100, 100, 200]',\n",
        "    get_radius=100,\n",
        ")\n",
        "layers.append(user_input_address)\n",
        "\n",
        "st.pydeck_chart(pdk.Deck(\n",
        "     map_style='mapbox://styles/mapbox/light-v9',\n",
        "     initial_view_state=pdk.ViewState(\n",
        "         longitude=queried_location[0],\n",
        "         latitude=queried_location[1],\n",
        "         zoom=14,\n",
        "         pitch=0,\n",
        "     ),\n",
        "     layers=layers,\n",
        " ))"
      ]
    },
    {
      "cell_type": "code",
      "source": [
        "from pyngrok import ngrok"
      ],
      "metadata": {
        "id": "HnizSudZQtzh"
      },
      "execution_count": 5,
      "outputs": []
    },
    {
      "cell_type": "code",
      "source": [
        "ngrok.set_auth_token(\"2DlrIVxVNodhO45eVjVn7gvhIym_4TXTNM5PPduCG2QBegVVi\")"
      ],
      "metadata": {
        "id": "mYS6c-TGQ2Ci"
      },
      "execution_count": 6,
      "outputs": []
    },
    {
      "cell_type": "code",
      "source": [
        "!nohub streamlit run app.py --server.port 80 &\n",
        "url = ngrok.connect(port = \"80\")\n",
        "print(url)"
      ],
      "metadata": {
        "colab": {
          "base_uri": "https://localhost:8080/"
        },
        "id": "ZbaifQqJRPtJ",
        "outputId": "f0bf6aa4-eaee-4cc8-ee48-64a0833f106e"
      },
      "execution_count": 7,
      "outputs": [
        {
          "output_type": "stream",
          "name": "stdout",
          "text": [
            "/bin/bash: nohub: command not found\n",
            "NgrokTunnel: \"http://e820-34-139-187-128.ngrok.io\" -> \"http://localhost:80\"\n"
          ]
        }
      ]
    },
    {
      "cell_type": "code",
      "source": [
        "# hier noch eine weitere Anleitung \"Another way of running a publicly accessible server using ngrok:\"\n",
        "#https://stackoverflow.com/questions/60571301/run-localhost-server-in-google-colab-notebook\n",
        "\n",
        "# >>>> klappt bei mir auch nicht <<<<<\n",
        "\n",
        "\n",
        "# !pip install pyngrok --quiet\n",
        "# from pyngrok import ngrok\n",
        "\n",
        "# #Terminate open tunnels if exist\n",
        "#ngrok.kill()\n",
        "\n",
        "# # Setting the authtoken (optional)\n",
        "# # Get your authtoken from https://dashboard.ngrok.com/auth\n",
        "# NGROK_AUTH_TOKEN = \"2DlrIVxVNodhO45eVjVn7gvhIym_4TXTNM5PPduCG2QBegVVi\"\n",
        "# ngrok.set_auth_token(NGROK_AUTH_TOKEN)\n",
        "\n",
        "# # Open an HTTPs tunnel on port 5000 for http://localhost:5000\n",
        "# public_url = ngrok.connect(port=\"5000\", proto=\"http\", options={\"bind_tls\": True})\n",
        "# print(\"Tracking URL:\", public_url)"
      ],
      "metadata": {
        "colab": {
          "base_uri": "https://localhost:8080/"
        },
        "id": "YYBOkztRSGPi",
        "outputId": "5042b1d1-9020-446c-cf05-075fa39012ba"
      },
      "execution_count": 9,
      "outputs": [
        {
          "output_type": "stream",
          "name": "stdout",
          "text": [
            "Tracking URL: NgrokTunnel: \"http://40bd-34-139-187-128.ngrok.io\" -> \"http://localhost:80\"\n"
          ]
        }
      ]
    },
    {
      "cell_type": "markdown",
      "source": [
        "# Als nächstes folgenden Code für Google Maps Einbindung in den Code von Hannah integrieren\n"
      ],
      "metadata": {
        "id": "w9e8REnifpb3"
      }
    },
    {
      "cell_type": "code",
      "source": [
        "#import webbrowser\n",
        "#import geocoder\n",
        "#loc = geocoder.ip('me').latlng\n",
        "#street = \"Kampstraße\"\n",
        "#current_geolocation = \"{latitude}, {longitude}\".format(latitude=loc[0], longitude=loc[1])\n",
        "#destination = \"{latitude}, {longitude}\".format(latitude=loc[0]+1, longitude=loc[1]+1)\n",
        "# #\"{street}+{number},+{zip_code}+{city}\".format(street=street, number=number,\n",
        "                                                           #zip_code=zip_code, city=city)\n",
        "# url = 'https://www.google.com/maps/dir/{start}/{end}'.format(start=current_geolocation, end=destination)\n"
      ],
      "metadata": {
        "id": "iIGn_BqAfozf"
      },
      "execution_count": null,
      "outputs": []
    }
  ]
}
